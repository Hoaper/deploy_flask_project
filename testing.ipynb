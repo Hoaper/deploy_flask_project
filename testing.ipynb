{
 "cells": [
  {
   "cell_type": "code",
   "execution_count": null,
   "metadata": {},
   "outputs": [],
   "source": [
    "!pip install requests"
   ]
  },
  {
   "cell_type": "code",
   "execution_count": 17,
   "metadata": {},
   "outputs": [
    {
     "data": {
      "text/plain": [
       "{'churn_descision': True, 'churn_probability': 0.5544754279008107}"
      ]
     },
     "execution_count": 17,
     "metadata": {},
     "output_type": "execute_result"
    }
   ],
   "source": [
    "import requests\n",
    "\n",
    "data = {\n",
    "    'customerid': \"x-123\",\n",
    "    'gender': \"male\",\n",
    "    'seniorcitizen': \"no\",\n",
    "    'partner': \"no\",\n",
    "    \"dependents\": \"no\",\n",
    "    \"tenure\": 1,\n",
    "    \"phoneservice\": \"no\",\n",
    "    \"multiplelines\": \"no\",\n",
    "    \"internetservice\": \"no\",\n",
    "    \"onlinesecurity\": \"no\",\n",
    "    \"onlinebackup\": \"yes\",\n",
    "    \"deviceprotection\": \"no\",\n",
    "    \"techsupport\": \"no\",\n",
    "    \"streamingtv\": \"yes\",\n",
    "    \"streamingmovies\": \"yes\",\n",
    "    \"contract\": \"month-to-month\",\n",
    "    \"paperlessbilling\": \"no\",\n",
    "    \"paymentmethod\": \"bank_transfer_(automatic)\",\n",
    "    \"monthlycharges\": 10,\n",
    "    \"totalcharges\": 10\n",
    "}\n",
    "\n",
    "response = requests.post(\"http://127.0.0.1:5000/predict\", json=data)\n",
    "response.json()\n"
   ]
  }
 ],
 "metadata": {
  "kernelspec": {
   "display_name": "venv",
   "language": "python",
   "name": "python3"
  },
  "language_info": {
   "codemirror_mode": {
    "name": "ipython",
    "version": 3
   },
   "file_extension": ".py",
   "mimetype": "text/x-python",
   "name": "python",
   "nbconvert_exporter": "python",
   "pygments_lexer": "ipython3",
   "version": "3.11.5"
  },
  "orig_nbformat": 4
 },
 "nbformat": 4,
 "nbformat_minor": 2
}
